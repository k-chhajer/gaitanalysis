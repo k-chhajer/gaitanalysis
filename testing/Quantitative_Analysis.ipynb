{
  "nbformat": 4,
  "nbformat_minor": 0,
  "metadata": {
    "colab": {
      "provenance": [],
      "authorship_tag": "ABX9TyMXFc1aWPstM5v3TN0aShUt",
      "include_colab_link": true
    },
    "kernelspec": {
      "name": "python3",
      "display_name": "Python 3"
    },
    "language_info": {
      "name": "python"
    }
  },
  "cells": [
    {
      "cell_type": "markdown",
      "metadata": {
        "id": "view-in-github",
        "colab_type": "text"
      },
      "source": [
        "<a href=\"https://colab.research.google.com/github/rpandya5/gaitanalysis/blob/main/testing/Quantitative_Analysis.ipynb\" target=\"_parent\"><img src=\"https://colab.research.google.com/assets/colab-badge.svg\" alt=\"Open In Colab\"/></a>"
      ]
    },
    {
      "cell_type": "markdown",
      "source": [
        "**Loading the Libraries and Mounting Drive**\n"
      ],
      "metadata": {
        "id": "8m045cd3rIJ-"
      }
    },
    {
      "cell_type": "code",
      "source": [
        "from google.colab import drive\n",
        "\n",
        "drive.mount('/content/gdrive')"
      ],
      "metadata": {
        "id": "oMvPHeiOAhmc",
        "colab": {
          "base_uri": "https://localhost:8080/"
        },
        "outputId": "1a919b1c-1dc6-43fd-8f90-92603e0114e0"
      },
      "execution_count": null,
      "outputs": [
        {
          "output_type": "stream",
          "name": "stdout",
          "text": [
            "Mounted at /content/gdrive\n"
          ]
        }
      ]
    },
    {
      "cell_type": "code",
      "execution_count": null,
      "metadata": {
        "id": "xLK2tbxLWYiI"
      },
      "outputs": [],
      "source": [
        "import pandas as pd\n",
        "import numpy as np\n",
        "import torch\n",
        "import torch.nn as nn\n",
        "import torch.nn.functional as F\n",
        "import os\n",
        "import torch.optim\n",
        "import torch.utils.data\n",
        "import random\n",
        "from sklearn import metrics\n",
        "import matplotlib.pyplot as plt"
      ]
    },
    {
      "cell_type": "markdown",
      "source": [
        "**Model Architecture**"
      ],
      "metadata": {
        "id": "6_pcWhx0qrsA"
      }
    },
    {
      "cell_type": "code",
      "source": [
        "class NoNormModel(nn.Module):\n",
        "  def __init__(self, input_size):\n",
        "    super(NoNormModel, self).__init__()\n",
        "\n",
        "    # CNN LAYERS\n",
        "    self.cnn_layers = nn.Sequential(\n",
        "\n",
        "        # LAYER 1: 64 filters, kernel size 3, relu, maxpooling size 2 (reduce dim)\n",
        "        nn.Conv1d(in_channels=input_size, out_channels=64, kernel_size=3, padding=1),\n",
        "        nn.ReLU(),\n",
        "        nn.MaxPool1d(kernel_size=2),\n",
        "\n",
        "        # LAYER 2 128 filters, kernel size 3, relu, maxpooling size 2\n",
        "        nn.Conv1d(in_channels=64, out_channels=128, kernel_size=3, padding=1),\n",
        "        nn.ReLU(),\n",
        "        nn.MaxPool1d(kernel_size=2),\n",
        "\n",
        "        # LAYER 3 256 filters, kernel size 3, relu, maxpooling size 2\n",
        "        nn.Conv1d(in_channels=128, out_channels=256, kernel_size=3, padding=1),\n",
        "        nn.ReLU(),\n",
        "        nn.MaxPool1d(kernel_size=2),\n",
        "    )\n",
        "\n",
        "    # LSTM LAYERS\n",
        "\n",
        "    # 256 input from cnn, 100 units\n",
        "    self.lstm_1 = nn.LSTM(input_size=256, hidden_size=100, batch_first=True)\n",
        "\n",
        "    # 100 input from lstm1, 100 units, return false\n",
        "    self.lstm_2 = nn.LSTM(input_size=100, hidden_size=100, batch_first=True)\n",
        "\n",
        "    self.fully_connected = nn.Sequential(\n",
        "\n",
        "        # First Fully Connected Layer 100 Inputs, 100 Outputs\n",
        "        nn.Linear(100, 100),\n",
        "        nn.ReLU(),\n",
        "        # Dropout Layer\n",
        "        nn.Dropout(0.5),\n",
        "\n",
        "        # Second Fully Connected Layer, 100 Inputs, 1 Output\n",
        "        nn.Linear(100, 1)\n",
        "    )\n",
        "\n",
        "  def forward(self, x):\n",
        "    x = x.permute(0, 2, 1) # change shape to (batch_size, input_channels, time_steps)\n",
        "\n",
        "    cnn_out = self.cnn_layers(x) #shape is now: (batch_size, 256, time_steps // 8)\n",
        "\n",
        "    lstm_in = cnn_out.permute(0, 2 , 1) #change to batch_size, time_steps // 8, 256) for lstm inpiut\n",
        "\n",
        "    lstm_out, _ = self.lstm_1(lstm_in)\n",
        "    lstm_out, _ = self.lstm_2(lstm_out)\n",
        "\n",
        "    fully_connected_in = lstm_out.view(-1, 100) # reshape to (batch_size, 100)\n",
        "    fully_connected_out = self.fully_connected(fully_connected_in)\n",
        "    fully_connected_out = fully_connected_out.view(-1)\n",
        "    fully_connected_out = fully_connected_out.to(torch.float)\n",
        "\n",
        "    return fully_connected_out"
      ],
      "metadata": {
        "id": "CA2eiSx1rVdn"
      },
      "execution_count": null,
      "outputs": []
    },
    {
      "cell_type": "code",
      "source": [
        "#Loading the trained model\n",
        "model_6 = torch.load('/content/gdrive/MyDrive/Copy of model_6.pth')"
      ],
      "metadata": {
        "id": "e0ZKJ3L4rgeB"
      },
      "execution_count": null,
      "outputs": []
    },
    {
      "cell_type": "code",
      "source": [
        "model_6.eval()"
      ],
      "metadata": {
        "colab": {
          "base_uri": "https://localhost:8080/"
        },
        "id": "iq5KgWmdrp9f",
        "outputId": "75a6eb45-ff79-4428-aa85-6f318c09512c"
      },
      "execution_count": null,
      "outputs": [
        {
          "output_type": "execute_result",
          "data": {
            "text/plain": [
              "NoNormModel(\n",
              "  (cnn_layers): Sequential(\n",
              "    (0): Conv1d(56, 64, kernel_size=(3,), stride=(1,), padding=(1,))\n",
              "    (1): ReLU()\n",
              "    (2): MaxPool1d(kernel_size=2, stride=2, padding=0, dilation=1, ceil_mode=False)\n",
              "    (3): Conv1d(64, 128, kernel_size=(3,), stride=(1,), padding=(1,))\n",
              "    (4): ReLU()\n",
              "    (5): MaxPool1d(kernel_size=2, stride=2, padding=0, dilation=1, ceil_mode=False)\n",
              "    (6): Conv1d(128, 256, kernel_size=(3,), stride=(1,), padding=(1,))\n",
              "    (7): ReLU()\n",
              "    (8): MaxPool1d(kernel_size=2, stride=2, padding=0, dilation=1, ceil_mode=False)\n",
              "  )\n",
              "  (lstm_1): LSTM(256, 100, batch_first=True)\n",
              "  (lstm_2): LSTM(100, 100, batch_first=True)\n",
              "  (fully_connected): Sequential(\n",
              "    (0): Linear(in_features=100, out_features=100, bias=True)\n",
              "    (1): ReLU()\n",
              "    (2): Dropout(p=0.5, inplace=False)\n",
              "    (3): Linear(in_features=100, out_features=1, bias=True)\n",
              "  )\n",
              ")"
            ]
          },
          "metadata": {},
          "execution_count": 6
        }
      ]
    },
    {
      "cell_type": "markdown",
      "source": [
        "**Quantitative Analysis**\n",
        "\n",
        "The team has chosen the following quantitative measures for evaluating our best model:\n",
        "\n",
        "1. Accuracy: Accuracy gives a measure of the overall correctness of the model, i.e. percentage of the model's outputs that the model classified correctly. This metric is necessary as the team aims to identify all activities correctly via the model.\n",
        "\n",
        "2. Sensitivity: Sensitivity gives a measure of the percentage of Positive samples that were classified correctly. As the problem of Fall Detection is extremely sensitive and that false negatives (Falls marked as ADLs) can lead to loss of human life, the team believes that Sensitivity will help us measure how accurately can our model can predict Falls. A high sensitivity will ensure that our model is truly serving it's purpose of detecting Falls and is able to maximise its impact in real life.\n",
        "\n",
        "3. Specificity: Specificity gives a measure of the percentage of Negative Samples that were classified correctly. A high specificity ensures that the model is correctly able to identify ADLs. Since False classification of ADLs as Falls will disrupt user experience, it is important that our model is able to detect ADLs with high accuracy.\n"
      ],
      "metadata": {
        "id": "zckoci_7qfJy"
      }
    },
    {
      "cell_type": "markdown",
      "source": [
        "**Quantitative Results on SisFall (Training Datatset)**\n",
        "\n",
        "Accuracy = 99.20488165680473%\n",
        "\n",
        "Sensitivity = 98.33147942157954%\n",
        "\n",
        "Specificity = 99.6398891966759%"
      ],
      "metadata": {
        "id": "rOQGcBf2SoTh"
      }
    },
    {
      "cell_type": "code",
      "source": [
        "#Helper Functions\n",
        "def plot_train_val(epoch_list, train_loss, val_loss, title):\n",
        "    # Plotting\n",
        "\n",
        "  fig, ax = plt.subplots(figsize=(6, 5))\n",
        "\n",
        "  plt.title(title+\" Curve\")\n",
        "\n",
        "  colors = [\"#8D99AE\", \"#EF233C\"]\n",
        "  # Plot the baseline text\n",
        "  plt.text(\n",
        "    epoch_list[-1] * 1.01,\n",
        "    train_loss[-1],\n",
        "    \"Training \" + title,\n",
        "    color=colors[0],\n",
        "    fontweight=\"bold\",\n",
        "    horizontalalignment=\"left\",\n",
        "    verticalalignment=\"center\",\n",
        "  )\n",
        "  plt.text(\n",
        "    epoch_list[-1] * 1.01,\n",
        "    val_loss[-1],\n",
        "    \"Validation \" + title,\n",
        "    color=colors[1],\n",
        "    fontweight=\"bold\",\n",
        "    horizontalalignment=\"left\",\n",
        "    verticalalignment=\"center\",\n",
        "  )\n",
        "  # Hide the all but the bottom spines (axis lines)\n",
        "  ax.spines[\"right\"].set_visible(False)\n",
        "  #ax.spines[\"left\"].set_visible(False)\n",
        "  ax.spines[\"top\"].set_visible(False)\n",
        "\n",
        "  # Only show ticks on the left and bottom spines\n",
        "  ax.yaxis.set_ticks_position(\"left\")\n",
        "  ax.xaxis.set_ticks_position(\"bottom\")\n",
        "  #ax.spines[\"bottom\"].set_bounds(min(x), max(x))\n",
        "\n",
        "\n",
        "  plt.plot(epoch_list, train_loss, label=\"Train\", color = colors[0], linewidth = 2)\n",
        "  plt.plot(epoch_list, val_loss, label=\"Validation\", color = colors[1], linewidth = 2)\n",
        "  plt.xlabel(\"Epoch\")\n",
        "  plt.ylabel(title)\n",
        "  plt.legend(loc='best')\n",
        "  plt.show()\n",
        "\n",
        "def get_labels(data):\n",
        "  #Returns the labels\n",
        "  list = []\n",
        "  for elem in data:\n",
        "    list.append(int(elem[-1]))\n",
        "  return list\n",
        "\n",
        "def listOfTuples(l1, l2):\n",
        "  #Merging\n",
        "  return list(map(lambda x, y:(x,y), l1, l2))\n",
        "\n",
        "def get_acc(model, data, batch_size):\n",
        "  #Modified to incorporate for evaluation metrics\n",
        "  correct = 0\n",
        "  total = 0\n",
        "  error = 0\n",
        "  out_list = torch.tensor([])\n",
        "  for img, labels in torch.utils.data.DataLoader(data, batch_size = batch_size):\n",
        "    output = model(img)\n",
        "    output = torch.sigmoid(output) # Gets the decimal estimations of fall / no fall\n",
        "    estimate = torch.round(output) # Rounds each estimate to 1 or 0 --> fall or no fall\n",
        "    diff = torch.abs(estimate - labels, out=None) # Gets all the incorrect assessments equal to 1\n",
        "    temp = torch.sum(diff) # Sums all the error estimates\n",
        "    error = temp.item() + error\n",
        "\n",
        "    out_list = torch.cat((out_list, output))\n",
        "\n",
        "  label_list = get_labels(data)\n",
        "  out_list = out_list.view(-1).cpu().detach().numpy()\n",
        "  out_list = [round(i) for i in out_list]\n",
        "  confusion_matrix_2 = metrics.confusion_matrix(label_list, out_list)\n",
        "  cm_display = metrics.ConfusionMatrixDisplay(confusion_matrix = confusion_matrix_2, display_labels = [0, 1])\n",
        "\n",
        "  cm_display.plot()\n",
        "  plt.show()\n",
        "\n",
        "  label_list = np.array(label_list)\n",
        "  tp = 0\n",
        "  tn = 0\n",
        "  fp = 0\n",
        "  fn = 0\n",
        "  for i in range(len(label_list)):\n",
        "    pred = out_list[i]\n",
        "    label = label_list[i]\n",
        "    if label == 1 and pred == label:\n",
        "      tp += 1\n",
        "    elif label == 1 and pred != label:\n",
        "      fn += 1\n",
        "    elif label == 0 and pred == label:\n",
        "      tn += 1\n",
        "    else:\n",
        "      fp += 1\n",
        "\n",
        "  accuracy = (tp+tn)/(tp+tn+fp+fn)\n",
        "  sensitivity = tp/(tp+fn)\n",
        "  specificity = tn/(tn+fp)\n",
        "\n",
        "  print('Accuracy=', accuracy)\n",
        "  print('Sensitivity=', sensitivity)\n",
        "  print('Specificity=', specificity)"
      ],
      "metadata": {
        "id": "ufGKYsdMB0s5"
      },
      "execution_count": null,
      "outputs": []
    },
    {
      "cell_type": "code",
      "source": [
        "sis_data = np.load('/content/gdrive/MyDrive/CNN-LSTM Data.npy')\n",
        "sis_labels = np.load('/content/gdrive/MyDrive/CNN-LSTM Labels.npy')\n",
        "siscombined = (listOfTuples((torch.from_numpy(sis_data)).to(torch.float), torch.from_numpy(sis_labels).to(torch.float)))\n",
        "random.shuffle(combined)"
      ],
      "metadata": {
        "id": "8EGByvkdwwlp"
      },
      "execution_count": null,
      "outputs": []
    },
    {
      "cell_type": "code",
      "source": [
        "get_acc(model_6, siscombined, 64)"
      ],
      "metadata": {
        "colab": {
          "base_uri": "https://localhost:8080/",
          "height": 503
        },
        "id": "rDqcYSLNxqJ_",
        "outputId": "9f9a73a7-b59a-4e75-a0a4-2eb8976a295f"
      },
      "execution_count": null,
      "outputs": [
        {
          "output_type": "display_data",
          "data": {
            "text/plain": [
              "<Figure size 640x480 with 2 Axes>"
            ],
            "image/png": "[encoded data removed]"
          },
          "metadata": {}
        },
        {
          "output_type": "stream",
          "name": "stdout",
          "text": [
            "Accuracy= 0.9920488165680473\n",
            "Sensitivity= 0.9833147942157954\n",
            "Specificity= 0.996398891966759\n"
          ]
        }
      ]
    },
    {
      "cell_type": "markdown",
      "source": [
        "**Quantitative Results on Nick's Phone Collected Data**\n"
      ],
      "metadata": {
        "id": "A0fvwtl5yWGw"
      }
    },
    {
      "cell_type": "code",
      "source": [
        "class DataProcessing:\n",
        "  def __init__(self, window_size = 400, window_overlap = 200):\n",
        "\n",
        "    #Features we extract from the windows\n",
        "    self.features = ['X_Acc_Mean', 'X_Acc_Max', 'X_Acc_Std', 'X_Acc_Min',\n",
        "                     'X_Acc_IQR', 'X_Acc_Skew', 'X_Acc_Kurtosis', 'X_Acc_Energy', 'X_Acc_Jerk',\n",
        "                     'Y_Acc_Mean', 'Y_Acc_Max', 'Y_Acc_Std', 'Y_Acc_Min',\n",
        "                     'Y_Acc_IQR', 'Y_Acc_Skew', 'Y_Acc_Kurtosis', 'Y_Acc_Energy', 'Y_Acc_Jerk',\n",
        "                     'Z_Acc_Mean', 'Z_Acc_Max', 'Z_Acc_Std', 'Z_Acc_Min',\n",
        "                     'Z_Acc_IQR', 'Z_Acc_Skew', 'Z_Acc_Kurtosis', 'Z_Acc_Energy', 'Z_Acc_Jerk',\n",
        "                     'XY_Acc_Cov', 'X_Gyro_Mean', 'X_Gyro_Max', 'X_Gyro_Std', 'X_Gyro_Min',\n",
        "                     'X_Gyro_IQR', 'X_Gyro_Skew', 'X_Gyro_Kurtosis', 'X_Gyro_Energy', 'X_Gyro_Jerk',\n",
        "                     'Y_Gyro_Mean', 'Y_Gyro_Max', 'Y_Gyro_Std', 'Y_Gyro_Min',\n",
        "                     'Y_Gyro_IQR', 'Y_Gyro_Skew', 'Y_Gyro_Kurtosis', 'Y_Gyro_Energy', 'Y_Gyro_Jerk',\n",
        "                     'Z_Acc_Mean', 'Z_Gyro_Max', 'Z_Gyro_Std', 'Z_Gyro_Min',\n",
        "                     'Z_Gyro_IQR', 'Z_Gyro_Skew', 'Z_Gyro_Kurtosis', 'Z_Gyro_Energy', 'Z_Gyro_Jerk',\n",
        "                     'XY_Gyro_Cov']\n",
        "\n",
        "    self.window_size = window_size # window size is 2 seconds\n",
        "    self.window_overlap = window_overlap # Overlap is 1 second\n",
        "\n",
        "  #Feature Extraction Done by Anya and Nick\n",
        "  def getcov(self, x_list_1, x_bar ,y_list, y_bar):\n",
        "    \"\"\" Calculates the covariance of x and y in the selected window.\n",
        "\n",
        "    Parameters:\n",
        "    -----------\n",
        "        x_list_1 : list\n",
        "        x_bar :\n",
        "          Average of x list\n",
        "        y_list : list\n",
        "        y_bar : float\n",
        "          Average of y list\n",
        "\n",
        "    Returns:\n",
        "    --------\n",
        "        covariace of x and y : float\n",
        "\n",
        "    \"\"\"\n",
        "    cov = []\n",
        "    for i in range(len(x_list_1)):\n",
        "        cov.append((x_list_1[i] - x_bar) * (y_list[i] - y_bar))\n",
        "    return sum(cov) / len(x_list_1) - 1\n",
        "\n",
        "  def jerk(self, x_list, t_step):\n",
        "    \"\"\" Calculated jerk, or the rate of change of the acceleration.\n",
        "\n",
        "    Parameters:\n",
        "    -----------\n",
        "    x_list : list\n",
        "    t_step : float\n",
        "\n",
        "    Returns:\n",
        "    --------\n",
        "    jerk_list : list\n",
        "\n",
        "    \"\"\"\n",
        "    jerk_list = []\n",
        "    for i in range(len(x_list)-1):\n",
        "        jerk_list.append((x_list[i+1] - x_list[i]) / t_step)\n",
        "\n",
        "    jerk_list.append(jerk_list[-1])\n",
        "    return sum(jerk_list) / len(jerk_list)\n",
        "\n",
        "  def energy(self, x_list):\n",
        "    \"\"\" Avergaged energy of the corresponding window\n",
        "\n",
        "    Parameters:\n",
        "    -----------\n",
        "    x_list : list\n",
        "\n",
        "    Returns:\n",
        "    --------\n",
        "    energy : float\n",
        "\n",
        "    \"\"\"\n",
        "    sum = 0\n",
        "    for i in range(len(x_list)):\n",
        "        sum += x_list[i]**2\n",
        "    return sum / len(x_list)\n",
        "\n",
        "\n",
        "  #Nick add your functions here (also add self as the first parameter)\n",
        "  def butter_lowpass_filter(self, data, cutoff, fs, order=5):\n",
        "    nyq = 0.5 * fs\n",
        "    normal_cutoff = cutoff / nyq\n",
        "    b, a = butter(order, normal_cutoff, btype='low', analog=False)\n",
        "    y = filtfilt(b, a, data)\n",
        "    return y\n",
        "\n",
        "  def getmean(self,df, col):\n",
        "    \"\"\"if col in (0,1,2,6,7,8):\n",
        "      x = butter_lowpass_filter(df[col], 10, 100)\n",
        "    else:\"\"\"\n",
        "    x = df[col]\n",
        "    return x.mean()\n",
        "\n",
        "  def getstd(self,df, col):\n",
        "    \"\"\"if col in (0,1,2,6,7,8):\n",
        "      x = butter_lowpass_filter(df[col], 10, 100)\n",
        "    else:\"\"\"\n",
        "    x = df[col]\n",
        "    return x.std()\n",
        "\n",
        "  def getmin(self, df, col):\n",
        "    \"\"\"if col in (0,1,2,6,7,8):\n",
        "      x = butter_lowpass_filter(df[col], 10, 100)\n",
        "    else:\"\"\"\n",
        "    x = df[col]\n",
        "    return x.min()\n",
        "\n",
        "  def getmax(self, df, col):\n",
        "    \"\"\"if col in (0,1,2,6,7,8):\n",
        "      x = butter_lowpass_filter(df[col], 10, 100)\n",
        "    else:\"\"\"\n",
        "    x = df[col]\n",
        "    return x.max()\n",
        "\n",
        "  def getmedian(self, df, col):\n",
        "    \"\"\"if col in (0,1,2,6,7,8):\n",
        "      x = butter_lowpass_filter(df[col], 10, 100)\n",
        "    else:\"\"\"\n",
        "    x = df[col]\n",
        "    return x.median()\n",
        "\n",
        "  def getskewness(self, df, col):\n",
        "    \"\"\"if col in (0,1,2,6,7,8):\n",
        "      x = butter_lowpass_filter(df[col], 10, 100)\n",
        "    else:\"\"\"\n",
        "    x = df[col]\n",
        "    return x.skew()\n",
        "\n",
        "  def getkurtosis(self, df, col):\n",
        "    \"\"\" if col in (0,1,2,6,7,8):\n",
        "      x = butter_lowpass_filter(df[col], 10, 100)\n",
        "    else:\"\"\"\n",
        "    x = df[col]\n",
        "    return x.kurtosis()\n",
        "\n",
        "  def getiqr(self, df, col):\n",
        "    \"\"\" if col in (0,1,2,6,7,8):\n",
        "      x = butter_lowpass_filter(df[col], 10, 100)\n",
        "    else:\"\"\"\n",
        "    x = df[col]\n",
        "    return x.quantile(0.75) - x.quantile(0.25)\n",
        "  #Window Sampling done by Krish\n",
        "  def window_sample(self, file_df):\n",
        "    \"\"\"\n",
        "    Description: Converts sensor readings of 15 seconds (200 Hz) into windows\n",
        "\n",
        "    Inputs:   dir- path to the directory where the file is stored\n",
        "              file- Name of the file with the sensor data\n",
        "\n",
        "    Outputs:  DataFrame with the windows and features extracted\n",
        "    \"\"\"\n",
        "\n",
        "    #Window size for activities is 2 seconds with a one second overlap\n",
        "    window_x = 1\n",
        "    new_df = []\n",
        "    for i in range(0, len(file_df)-self.window_overlap, self.window_overlap):\n",
        "      window = file_df.iloc[i:i+self.window_size:]\n",
        "      sampled = []\n",
        "\n",
        "      #Calling all functions for the specific window\n",
        "      sampled.append(self.getmean(window, 'X_Acc_1'))\n",
        "      sampled.append(self.getmax(window, 'X_Acc_1'))\n",
        "      sampled.append(self.getstd(window, 'X_Acc_1'))\n",
        "      sampled.append(self.getmin(window, 'X_Acc_1'))\n",
        "      sampled.append(self.getiqr(window, 'X_Acc_1'))\n",
        "      sampled.append(self.getskewness(window, 'X_Acc_1'))\n",
        "      sampled.append(self.getkurtosis(window, 'X_Acc_1'))\n",
        "      sampled.append(self.energy(window['X_Acc_1'].tolist()))\n",
        "      sampled.append(self.jerk(window['X_Acc_1'].tolist(), (2/self.window_size)))\n",
        "\n",
        "      sampled.append(self.getmean(window, 'Y_Acc_1'))\n",
        "      sampled.append(self.getmax(window, 'Y_Acc_1'))\n",
        "      sampled.append(self.getstd(window, 'Y_Acc_1'))\n",
        "      sampled.append(self.getmin(window, 'Y_Acc_1'))\n",
        "      sampled.append(self.getiqr(window, 'Y_Acc_1'))\n",
        "      sampled.append(self.getskewness(window, 'Y_Acc_1'))\n",
        "      sampled.append(self.getkurtosis(window, 'Y_Acc_1'))\n",
        "      sampled.append(self.energy(window['Y_Acc_1'].tolist()))\n",
        "      sampled.append(self.jerk(window['Y_Acc_1'].tolist(), (2/self.window_size)))\n",
        "\n",
        "      sampled.append(self.getmean(window, 'Z_Acc_1'))\n",
        "      sampled.append(self.getmax(window, 'Z_Acc_1'))\n",
        "      sampled.append(self.getstd(window, 'Z_Acc_1'))\n",
        "      sampled.append(self.getmin(window, 'Z_Acc_1'))\n",
        "      sampled.append(self.getiqr(window, 'Z_Acc_1'))\n",
        "      sampled.append(self.getskewness(window, 'Z_Acc_1'))\n",
        "      sampled.append(self.getkurtosis(window, 'Z_Acc_1'))\n",
        "      sampled.append(self.energy(window['Z_Acc_1'].tolist()))\n",
        "      sampled.append(self.jerk(window['Z_Acc_1'].tolist(), (2/self.window_size)))\n",
        "      sampled.append(self.getcov(window['X_Acc_1'].tolist(), self.getmean(window, 'X_Acc_1'), window['Y_Acc_1'].tolist(), self.getmean(window, 'Y_Acc_1')))\n",
        "\n",
        "\n",
        "      sampled.append(self.getmean(window, 'X_Gyro'))\n",
        "      sampled.append(self.getmax(window, 'X_Gyro'))\n",
        "      sampled.append(self.getstd(window, 'X_Gyro'))\n",
        "      sampled.append(self.getmin(window, 'X_Gyro'))\n",
        "      sampled.append(self.getiqr(window, 'X_Gyro'))\n",
        "      sampled.append(self.getskewness(window, 'X_Gyro'))\n",
        "      sampled.append(self.getkurtosis(window, 'X_Gyro'))\n",
        "      sampled.append(self.energy(window['X_Gyro'].tolist()))\n",
        "      sampled.append(self.jerk(window['X_Gyro'].tolist(), (2/self.window_size)))\n",
        "\n",
        "      sampled.append(self.getmean(window, 'Y_Gyro'))\n",
        "      sampled.append(self.getmax(window, 'Y_Gyro'))\n",
        "      sampled.append(self.getstd(window, 'Y_Gyro'))\n",
        "      sampled.append(self.getmin(window, 'Y_Gyro'))\n",
        "      sampled.append(self.getiqr(window, 'Y_Gyro'))\n",
        "      sampled.append(self.getskewness(window, 'Y_Gyro'))\n",
        "      sampled.append(self.getkurtosis(window, 'Y_Gyro'))\n",
        "      sampled.append(self.energy(window['Y_Gyro'].tolist()))\n",
        "      sampled.append(self.jerk(window['Y_Gyro'].tolist(), (2/self.window_size)))\n",
        "\n",
        "      sampled.append(self.getmean(window, 'Z_Gyro'))\n",
        "      sampled.append(self.getmax(window, 'Z_Gyro'))\n",
        "      sampled.append(self.getstd(window, 'Z_Gyro'))\n",
        "      sampled.append(self.getmin(window, 'Z_Gyro'))\n",
        "      sampled.append(self.getiqr(window, 'Z_Gyro'))\n",
        "      sampled.append(self.getskewness(window, 'Z_Gyro'))\n",
        "      sampled.append(self.getkurtosis(window, 'Z_Gyro'))\n",
        "      sampled.append(self.energy(window['Z_Gyro'].tolist()))\n",
        "      sampled.append(self.jerk(window['Z_Gyro'].tolist(), (2/self.window_size)))\n",
        "      sampled.append(self.getcov(window['X_Gyro'].tolist(), self.getmean(window, 'X_Gyro'), window['Y_Gyro'].tolist(), self.getmean(window, 'Y_Gyro')))\n",
        "\n",
        "      new_df.append(sampled)\n",
        "      window_x += 1\n",
        "\n",
        "    #Returns the created DataFrame\n",
        "    return pd.DataFrame(new_df, columns=self.features)"
      ],
      "metadata": {
        "id": "CBHYEsy9zPGj"
      },
      "execution_count": null,
      "outputs": []
    },
    {
      "cell_type": "code",
      "source": [
        "def get_data(activity, folder = '/content/gdrive/MyDrive/Processed Data'):\n",
        "  data = []\n",
        "  for dir, _, files in os.walk(folder):\n",
        "    for file in files:\n",
        "      file_df = pd.read_csv(os.path.join(dir, file))\n",
        "      file_df = file_df.drop(['Unnamed: 0', 'Window'], axis=1)\n",
        "      if file[:3] == activity:\n",
        "        data.append(np.array(file_df))\n",
        "  data = np.array(data)\n",
        "  if activity == 'F':\n",
        "    k = 1\n",
        "  else:\n",
        "    k = 0\n",
        "  labels = np.array([k for i in range(len(data))])\n",
        "  combined = listOfTuples((torch.from_numpy(data)).to(torch.float), torch.from_numpy(labels).to(torch.float))\n",
        "  random.shuffle(combined)\n",
        "  return combined"
      ],
      "metadata": {
        "id": "ovivIYyyAuEK"
      },
      "execution_count": null,
      "outputs": []
    },
    {
      "cell_type": "code",
      "source": [
        "phone_data = []\n",
        "phone_labels = []\n",
        "sampler = DataProcessing(20, 10)\n",
        "for dir, _, files in os.walk('/content/gdrive/MyDrive/Phone Collected Data'):\n",
        "  for file in files:\n",
        "    if file[0] == 'p':\n",
        "      file_df = pd.read_csv(os.path.join(dir, file))\n",
        "      cols = file_df.columns\n",
        "      file_df['Timestamp'] = file_df['seconds_elapsed']\n",
        "      file_df['X_Acc_1'] = file_df['accelerometer_x']*-1\n",
        "      file_df['Y_Acc_1'] = file_df['accelerometer_y']*-1\n",
        "      file_df['Z_Acc_1'] = file_df['accelerometer_z']*-1\n",
        "      file_df['X_Gyro'] = file_df['gyroscope_x']*(-180/3.14)\n",
        "      file_df['Y_Gyro'] = file_df['gyroscope_y']*(-180/3.14)\n",
        "      file_df['Z_Gyro'] = file_df['gyroscope_z']*(-180/3.14)\n",
        "      file_df = file_df.drop(cols, axis=1)\n",
        "      file_df = file_df[20:170]\n",
        "      file_sampled = sampler.window_sample(file_df)\n",
        "      phone_data.append(file_sampled)\n",
        "      phone_labels.append(1)\n",
        "    else:\n",
        "      file_df = pd.read_csv(os.path.join(dir, file))\n",
        "      cols = file_df.columns\n",
        "      file_df['Timestamp'] = file_df['seconds_elapsed']\n",
        "      file_df['X_Acc_1'] = file_df['accelerometer_x']*-1\n",
        "      file_df['Y_Acc_1'] = file_df['accelerometer_y']*-1\n",
        "      file_df['Z_Acc_1'] = file_df['accelerometer_z']*-1\n",
        "      file_df['X_Gyro'] = file_df['gyroscope_x']*(-180/3.14)\n",
        "      file_df['Y_Gyro'] = file_df['gyroscope_y']*(-180/3.14)\n",
        "      file_df['Z_Gyro'] = file_df['gyroscope_z']*(-180/3.14)\n",
        "      file_df = file_df.drop(cols, axis=1)\n",
        "      if len(file_df)<150:\n",
        "        cols = file_df.columns\n",
        "        file_np = np.array(file_df)\n",
        "        file_df = pd.DataFrame(np.array(np.vstack((file_np, np.tile(file_np[-1], (150-len(file_df), 1))))), columns=cols)\n",
        "      elif len(file_df)>150:\n",
        "        file_df = file_df[:150]\n",
        "      file_sampled = sampler.window_sample(file_df)\n",
        "      phone_data.append(file_sampled)\n",
        "      phone_labels.append(0)"
      ],
      "metadata": {
        "id": "4jYJtRabzWWc"
      },
      "execution_count": null,
      "outputs": []
    },
    {
      "cell_type": "code",
      "source": [
        "phone_data = np.array(phone_data)\n",
        "phone_labels = np.array(phone_labels)\n",
        "phonecombined = (listOfTuples((torch.from_numpy(phone_data)).to(torch.float), torch.from_numpy(phone_labels).to(torch.float)))\n",
        "random.shuffle(phonecombined)"
      ],
      "metadata": {
        "id": "NHN9yhIsz1Vp"
      },
      "execution_count": null,
      "outputs": []
    },
    {
      "cell_type": "code",
      "source": [
        "get_acc(model_6, phonecombined, 64)"
      ],
      "metadata": {
        "colab": {
          "base_uri": "https://localhost:8080/",
          "height": 509
        },
        "id": "dktQZ7et2Br7",
        "outputId": "5c879ffc-7b83-4998-db3f-5ff22892c8ea"
      },
      "execution_count": null,
      "outputs": [
        {
          "output_type": "display_data",
          "data": {
            "text/plain": [
              "<Figure size 640x480 with 2 Axes>"
            ],
            "image/png": "[encoded data removed]"
          },
          "metadata": {}
        },
        {
          "output_type": "stream",
          "name": "stdout",
          "text": [
            "Accuracy= 0.8041237113402062\n",
            "Sensitivity= 0.7692307692307693\n",
            "Specificity= 0.8444444444444444\n"
          ]
        }
      ]
    }
  ]
}